{
  "nbformat": 4,
  "nbformat_minor": 0,
  "metadata": {
    "colab": {
      "provenance": []
    },
    "kernelspec": {
      "name": "python3",
      "display_name": "Python 3"
    },
    "language_info": {
      "name": "python"
    }
  },
  "cells": [
    {
      "cell_type": "code",
      "execution_count": 1,
      "metadata": {
        "colab": {
          "base_uri": "https://localhost:8080/"
        },
        "id": "L1sSQb-XVy46",
        "outputId": "dfa219e8-da3e-4922-d6da-15ee173c9344"
      },
      "outputs": [
        {
          "output_type": "stream",
          "name": "stdout",
          "text": [
            "Enter the city name: london\n",
            "1. Get weather\n",
            "2. Get Wind Speed\n",
            "3. Get Pressure\n",
            "0. Exit\n",
            "Enter your choice: 1\n",
            "Enter the date (YYYY-MM-DD): 2019-03-27\n",
            "Temperature on 2019-03-27 in london: 278.76°C\n",
            "1. Get weather\n",
            "2. Get Wind Speed\n",
            "3. Get Pressure\n",
            "0. Exit\n",
            "Enter your choice: 2\n",
            "Enter the date (YYYY-MM-DD): 2019-03-27\n",
            "Wind Speed on 2019-03-27 in london: 1.6 m/s\n",
            "1. Get weather\n",
            "2. Get Wind Speed\n",
            "3. Get Pressure\n",
            "0. Exit\n",
            "Enter your choice: 3\n",
            "Enter the date (YYYY-MM-DD): 2019-03-27\n",
            "Pressure on 2019-03-27 in london: 1031.934 hPa\n",
            "1. Get weather\n",
            "2. Get Wind Speed\n",
            "3. Get Pressure\n",
            "0. Exit\n",
            "Enter your choice: 0\n",
            "Exiting the program.\n"
          ]
        }
      ],
      "source": [
        "import requests\n",
        "\n",
        "API_KEY = \"b6907d289e10d714a6e88b30761fae22\"\n",
        "API_URL = \"https://samples.openweathermap.org/data/2.5/forecast/hourly\"\n",
        "\n",
        "def get_weather_data(city):\n",
        "    url = f\"{API_URL}?q={city}&appid={API_KEY}\"\n",
        "    response = requests.get(url)\n",
        "    if response.status_code == 200:\n",
        "        data = response.json()\n",
        "        return data\n",
        "    else:\n",
        "        print(\"Failed to fetch weather data.\")\n",
        "        return None\n",
        "\n",
        "def get_temperature_by_date(data, target_date):\n",
        "    for entry in data['list']:\n",
        "        if entry['dt_txt'].split()[0] == target_date:\n",
        "            return entry['main']['temp']\n",
        "    return None\n",
        "\n",
        "def get_wind_speed_by_date(data, target_date):\n",
        "    for entry in data['list']:\n",
        "        if entry['dt_txt'].split()[0] == target_date:\n",
        "            return entry['wind']['speed']\n",
        "    return None\n",
        "\n",
        "def get_pressure_by_date(data, target_date):\n",
        "    for entry in data['list']:\n",
        "        if entry['dt_txt'].split()[0] == target_date:\n",
        "            return entry['main']['pressure']\n",
        "    return None\n",
        "\n",
        "if __name__ == \"__main__\":\n",
        "    city = input(\"Enter the city name: \")\n",
        "    data = get_weather_data(city)\n",
        "\n",
        "    if data:\n",
        "        while True:\n",
        "            print(\"1. Get weather\")\n",
        "            print(\"2. Get Wind Speed\")\n",
        "            print(\"3. Get Pressure\")\n",
        "            print(\"0. Exit\")\n",
        "            choice = input(\"Enter your choice: \")\n",
        "\n",
        "            if choice == \"1\":\n",
        "                date = input(\"Enter the date (YYYY-MM-DD): \")\n",
        "                temperature = get_temperature_by_date(data, date)\n",
        "                if temperature:\n",
        "                    print(f\"Temperature on {date} in {city}: {temperature}°C\")\n",
        "                else:\n",
        "                    print(\"Data not available for the given date.\")\n",
        "            elif choice == \"2\":\n",
        "                date = input(\"Enter the date (YYYY-MM-DD): \")\n",
        "                wind_speed = get_wind_speed_by_date(data, date)\n",
        "                if wind_speed:\n",
        "                    print(f\"Wind Speed on {date} in {city}: {wind_speed} m/s\")\n",
        "                else:\n",
        "                    print(\"Data not available for the given date.\")\n",
        "            elif choice == \"3\":\n",
        "                date = input(\"Enter the date (YYYY-MM-DD): \")\n",
        "                pressure = get_pressure_by_date(data, date)\n",
        "                if pressure:\n",
        "                    print(f\"Pressure on {date} in {city}: {pressure} hPa\")\n",
        "                else:\n",
        "                    print(\"Data not available for the given date.\")\n",
        "            elif choice == \"0\":\n",
        "                print(\"Exiting the program.\")\n",
        "                break\n",
        "            else:\n",
        "                print(\"Invalid choice. Please try again.\")\n",
        "\n"
      ]
    }
  ]
}